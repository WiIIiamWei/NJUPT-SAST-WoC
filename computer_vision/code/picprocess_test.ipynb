{
 "cells": [
  {
   "cell_type": "code",
   "execution_count": 2,
   "metadata": {},
   "outputs": [],
   "source": [
    "img_src = \"../data/test/\"\n",
    "img_out = \"../data/test_out/\""
   ]
  },
  {
   "cell_type": "code",
   "execution_count": 5,
   "metadata": {},
   "outputs": [],
   "source": [
    "from PIL import Image, ImageChops\n",
    "from rembg import remove\n",
    "import os\n",
    "\n",
    "for i in range(1, 9376):\n",
    "    img = Image.open(os.path.join(img_src, str(i) + \".jpg\"))\n",
    "    img = ImageChops.invert(img)\n",
    "    img = img.resize((400, 400))\n",
    "    img_rt = img.rotate(240)\n",
    "    img_rt = img_rt.crop((40, 40, 360, 360))\n",
    "    img_nobg = remove(img_rt)\n",
    "    try:\n",
    "        img_nobg.save(os.path.join(img_out, str(i) + \".png\"))\n",
    "    except:\n",
    "        print(f\"Error with {i}\")"
   ]
  }
 ],
 "metadata": {
  "kernelspec": {
   "display_name": "ml_default",
   "language": "python",
   "name": "python3"
  },
  "language_info": {
   "codemirror_mode": {
    "name": "ipython",
    "version": 3
   },
   "file_extension": ".py",
   "mimetype": "text/x-python",
   "name": "python",
   "nbconvert_exporter": "python",
   "pygments_lexer": "ipython3",
   "version": "3.10.13"
  }
 },
 "nbformat": 4,
 "nbformat_minor": 2
}
