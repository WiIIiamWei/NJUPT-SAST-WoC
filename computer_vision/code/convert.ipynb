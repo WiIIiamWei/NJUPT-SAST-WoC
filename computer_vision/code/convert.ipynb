{
 "cells": [
  {
   "cell_type": "code",
   "execution_count": 3,
   "metadata": {},
   "outputs": [],
   "source": [
    "# Convert png to jpg, transparent background will be white\n",
    "\n",
    "from PIL import Image\n",
    "\n",
    "def png_to_jpg(png_path, jpg_path):\n",
    "    img = Image.open(png_path)\n",
    "    if img.mode in ('RGBA', 'LA') or (img.mode == 'P' and 'transparency' in img.info):\n",
    "        alpha = img.convert('RGBA').split()[-1]\n",
    "        bg = Image.new(\"RGB\", img.size, (255,255,255))  # white background\n",
    "        bg.paste(img, mask=alpha)  # paste img onto background using alpha channel as mask\n",
    "        bg.save(jpg_path, quality=100)\n",
    "    else:\n",
    "        img.convert('RGB').save(jpg_path, quality=100)\n",
    "        \n",
    "for i in range(3600, 3610):\n",
    "    png_path = f\"../data/test_out/{i}.png\"\n",
    "    jpg_path = f\"C:/Users/13977/Pictures/test/{i}.jpg\"\n",
    "    try:\n",
    "        png_to_jpg(png_path, jpg_path)\n",
    "    except:\n",
    "        print(f\"Error with file {i}\")"
   ]
  }
 ],
 "metadata": {
  "kernelspec": {
   "display_name": "ml_default",
   "language": "python",
   "name": "python3"
  },
  "language_info": {
   "codemirror_mode": {
    "name": "ipython",
    "version": 3
   },
   "file_extension": ".py",
   "mimetype": "text/x-python",
   "name": "python",
   "nbconvert_exporter": "python",
   "pygments_lexer": "ipython3",
   "version": "3.10.13"
  }
 },
 "nbformat": 4,
 "nbformat_minor": 2
}
