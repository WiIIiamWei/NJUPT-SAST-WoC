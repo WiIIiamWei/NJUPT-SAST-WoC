{
 "cells": [
  {
   "cell_type": "code",
   "execution_count": 2,
   "metadata": {},
   "outputs": [],
   "source": [
    "img_src = \"../data/train/\"\n",
    "img_out = \"../data/train_out/\""
   ]
  },
  {
   "cell_type": "code",
   "execution_count": 8,
   "metadata": {},
   "outputs": [],
   "source": [
    "from PIL import Image\n",
    "from rembg import remove\n",
    "import os\n",
    "\n",
    "for i in range(1, 15626):\n",
    "    try:\n",
    "        img = Image.open(os.path.join(img_src, \"cat.\" + str(i) + \".jpg\"))\n",
    "        tag = 'cat.'\n",
    "    except FileNotFoundError:\n",
    "        img = Image.open(os.path.join(img_src, \"dog.\" + str(i) + \".jpg\"))\n",
    "        tag = 'dog.'\n",
    "    img_nobg = remove(img, alpha=0.5)\n",
    "    img_nobg.save(os.path.join(img_out, tag + str(i) + \".png\"))"
   ]
  }
 ],
 "metadata": {
  "kernelspec": {
   "display_name": "base",
   "language": "python",
   "name": "python3"
  },
  "language_info": {
   "codemirror_mode": {
    "name": "ipython",
    "version": 3
   },
   "file_extension": ".py",
   "mimetype": "text/x-python",
   "name": "python",
   "nbconvert_exporter": "python",
   "pygments_lexer": "ipython3",
   "version": "3.10.13"
  }
 },
 "nbformat": 4,
 "nbformat_minor": 2
}
