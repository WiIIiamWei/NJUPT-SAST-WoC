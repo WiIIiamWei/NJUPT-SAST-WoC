{
 "cells": [
  {
   "cell_type": "code",
   "execution_count": 330,
   "metadata": {},
   "outputs": [
    {
     "data": {
      "text/plain": [
       "'694168504873'"
      ]
     },
     "execution_count": 330,
     "metadata": {},
     "output_type": "execute_result"
    }
   ],
   "source": [
    "from selenium import webdriver\n",
    "from selenium.webdriver.support.ui import WebDriverWait\n",
    "from selenium.webdriver.support import expected_conditions as EC\n",
    "from selenium.webdriver.common.by import By\n",
    "import time\n",
    "\n",
    "shopId = ['694168504873',\n",
    "          '675283436889',\n",
    "          '650148249256',\n",
    "          '749865515162',\n",
    "          '630992186097',\n",
    "          '638527720402',\n",
    "          '649491448702',\n",
    "          '760291935606',\n",
    "          '544938957244',\n",
    "          '695459116852',\n",
    "          '693783042579',\n",
    "          '695753938655',\n",
    "          '694079467320',\n",
    "          '695510981405',\n",
    "          '743240780338',\n",
    "          '696362085490',\n",
    "          '695188799271',\n",
    "          '693551765598',\n",
    "          '695765594483',\n",
    "          '693297045714',\n",
    "          '683121641192']\n",
    "class_name = \"Comment--content--15w7fKj\"\n",
    "shopId[0]"
   ]
  },
  {
   "cell_type": "code",
   "execution_count": 331,
   "metadata": {},
   "outputs": [],
   "source": [
    "\n",
    "# 创建一个 WebDriver 对象\n",
    "driver = webdriver.Safari()\n",
    "# 最大化窗口\n",
    "driver.maximize_window()\n",
    "cookies=[{'expiry': 1722882711, 'secure': True, 'domain': '.taobao.com', 'httpOnly': False, 'value': 'BL6-xfN2V6qIpIOOVFm2Ce08DdIA_4J5o8GKe2jHKoH8C17l0I_SieTph1bHKHqR', 'path': '/', 'sameSite': 'None', 'name': 'isg'}, {'expiry': 1722882711, 'secure': False, 'domain': '.taobao.com', 'httpOnly': False, 'value': 'ez8eXyVNqavsPfVXYGbPbEz9ZzXdyZHjaU65ZQAlO9XHAQflzdvS99OopL8PIdPIpTipUgJWBgv5FBNpXKO0ReidPz7CyaDjhqgb9BQRrGPVEGOKIvkNSxgjlBAdyaDjhXHiM8sOEzYky6mmEAQ-gfTNTMj9t14l6F5FYtA3Vz4uM6SFnBXG4EaRsrAqsxwuqM45_tGZsMqqnMyYcXvL2uIMX1WjOXZ82MXf_tGZ_uERjBfNhXGC.', 'path': '/', 'sameSite': 'None', 'name': 'tfstk'}, {'secure': False, 'domain': '.taobao.com', 'httpOnly': False, 'value': 'existShop=false&cookie16=UIHiLt3xCS3yM2h4eKHS9lpEOw%3D%3D&cookie14=UoYekiNfEtm%2FcA%3D%3D&cookie15=WqG3DMC9VAQiUQ%3D%3D&pas=0&cookie21=WqG3DMC9FxUx', 'path': '/', 'sameSite': 'None', 'name': 'uc1'}, {'expiry': 1738866681, 'secure': False, 'domain': '.taobao.com', 'httpOnly': False, 'value': 'U%2BGCWk%2F7og%3D%3D', 'path': '/', 'sameSite': 'None', 'name': '_cc_'}, {'secure': False, 'domain': '.taobao.com', 'httpOnly': False, 'value': 'Ug%3D%3D', 'path': '/', 'sameSite': 'None', 'name': '_l_g_'}, {'secure': False, 'domain': '.taobao.com', 'httpOnly': False, 'value': 'tb2966396348', 'path': '/', 'sameSite': 'None', 'name': '_nk_'}, {'secure': False, 'domain': '.taobao.com', 'httpOnly': False, 'value': 'ee554e7edefe6', 'path': '/', 'sameSite': 'None', 'name': '_tb_token_'}, {'secure': False, 'domain': '.taobao.com', 'httpOnly': False, 'value': 'empty', 'path': '/', 'sameSite': 'None', 'name': 'cancelledSubSites'}, {'secure': False, 'domain': '.taobao.com', 'httpOnly': True, 'value': 'WvcQGhHMC%2BKDdaeIDAWSZO5WIkqE05z7oJ3wrv5bs4c%3D', 'path': '/', 'sameSite': 'None', 'name': 'cookie1'}, {'secure': False, 'domain': '.taobao.com', 'httpOnly': True, 'value': 'UUpgRK%2Fa%2BnCptQbSgQ%3D%3D', 'path': '/', 'sameSite': 'None', 'name': 'cookie17'}, {'secure': False, 'domain': '.taobao.com', 'httpOnly': True, 'value': '103fa6ff6f2f121ba2a6f9be38cd1489', 'path': '/', 'sameSite': 'None', 'name': 'cookie2'}, {'secure': False, 'domain': '.taobao.com', 'httpOnly': False, 'value': '2be72af1', 'path': '/', 'sameSite': 'None', 'name': 'csg'}, {'secure': False, 'domain': '.taobao.com', 'httpOnly': False, 'value': 'tb2966396348', 'path': '/', 'sameSite': 'None', 'name': 'dnk'}, {'secure': False, 'domain': '.taobao.com', 'httpOnly': False, 'value': 'MTcwNzMzMDY4MQ%3D%3D', 'path': '/', 'sameSite': 'None', 'name': 'existShop'}, {'expiry': 1709922681, 'secure': False, 'domain': '.taobao.com', 'httpOnly': False, 'value': 'tb2966396348', 'path': '/', 'sameSite': 'None', 'name': 'lgc'}, {'secure': False, 'domain': '.taobao.com', 'httpOnly': False, 'value': '872', 'path': '/', 'sameSite': 'None', 'name': 'sg'}, {'expiry': 1738866681, 'secure': False, 'domain': '.taobao.com', 'httpOnly': True, 'value': 'E100S266ijdsJTpO10%2FZPPYVLqrtDCInb%2BOeATUXAR%2FV8QUg9fmOcAn4X3FCMax4Fs5i4Ak4cEytc3FUwFqCxoUeZ2GD1iC3ZzpGKnV5IhHVYxG4uAVuu%2FvalKmj4%2FwkMABw', 'path': '/', 'sameSite': 'None', 'name': 'sgcookie'}, {'secure': False, 'domain': '.taobao.com', 'httpOnly': True, 'value': 'b955382dd845df73', 'path': '/', 'sameSite': 'None', 'name': 'skt'}, {'expiry': 1715106681, 'secure': False, 'domain': '.taobao.com', 'httpOnly': False, 'value': 'f697b3bca1bf540c0a9378e8d142d29a', 'path': '/', 'sameSite': 'None', 'name': 't'}, {'expiry': 1738866681, 'secure': False, 'domain': '.taobao.com', 'httpOnly': False, 'value': 'tb2966396348', 'path': '/', 'sameSite': 'None', 'name': 'tracknick'}, {'expiry': 1709922681, 'secure': False, 'domain': '.taobao.com', 'httpOnly': True, 'value': 'lg2=U%2BGCWk%2F75gdr5Q%3D%3D&id2=UUpgRK%2Fa%2BnCptQbSgQ%3D%3D&vt3=F8dD3CmQy%2FaRHQRLCQ0%3D&nk2=F5RHqFvjokxQuuT8', 'path': '/', 'sameSite': 'None', 'name': 'uc3'}, {'expiry': 1709922681, 'secure': False, 'domain': '.taobao.com', 'httpOnly': True, 'value': 'nk4=0%40FY4MuqA2se8OHGMuObO9JfbcQGuvlDA%3D&id4=0%40U2gqy16UcpWRewvUN04MhYUe9hKHbsPY', 'path': '/', 'sameSite': 'None', 'name': 'uc4'}, {'secure': False, 'domain': '.taobao.com', 'httpOnly': True, 'value': '2212297293927', 'path': '/', 'sameSite': 'None', 'name': 'unb'}, {'expiry': 1707589870, 'secure': True, 'domain': '.taobao.com', 'httpOnly': False, 'value': '1', 'path': '/', 'sameSite': 'None', 'name': 'xlly_s'}, {'expiry': 1741890669, 'secure': False, 'domain': '.taobao.com', 'httpOnly': False, 'value': 'brpKHvBKgCkCAd9Yel1Q7OMH', 'path': '/', 'sameSite': 'None', 'name': 'cna'}, {'expiry': 1708194668, 'secure': True, 'domain': '.taobao.com', 'httpOnly': False, 'value': '1707330668707', 'path': '/', 'sameSite': 'None', 'name': '3PcFlag'}, {'secure': True, 'domain': '.taobao.com', 'httpOnly': True, 'value': 'true', 'path': '/', 'sameSite': 'None', 'name': '_samesite_flag_'}]\n",
    "for cookie in cookies:\n",
    "    driver.add_cookie(cookie)"
   ]
  },
  {
   "cell_type": "code",
   "execution_count": 332,
   "metadata": {},
   "outputs": [
    {
     "name": "stdout",
     "output_type": "stream",
     "text": [
      "宝贝评价 id=694168504873\n",
      "第1条评论：算是一次很好的购买，买之前总是害怕有问题，显卡看着非常新，一下就点亮，甜甜圈半个小时显卡温度保持在74，显卡风扇的声音也不大，运行速度也很快，玩永劫也没有感觉热，散热效果也是非常可以，这个价格买到这样的显卡 ，还有两年质保非常不错 \n",
      "第2条评论：装上直接点亮，压力测试80度左右，平时20～30度左右，风扇声音很小，散热效果也不错，老游戏可以特效全开。\n",
      "第3条评论：电脑速度很快，比之前的1030快了很多倍，不再卡了，在客服指导下，顺利安装，一次点亮，整体来说，性价比很高。\n",
      "第4条评论：买了85寸大电视，于是搞张入门级显卡插在旧电脑上当htpc用，硬解4K120帧毫无压力，画质比tv端的app强多了，也不需要为了**的tv端会员多掏一辈的会员费，完美！\n",
      "第5条评论：整体评价：非常好 性价比：好 散热效果：很好 安装情况：简单 运行速度：快 \n",
      "第6条评论：整体评价：正常点亮，烤机20分钟温度稳定75，压力测试97.8。板卡新的，风扇声音一直很稳定，不高，希望可以稳定使用个几年。  \n",
      "第7条评论：这款1660显卡性价比高，运行稳定，能满足我的游戏需求。它的精致散热设计保证了显卡的稳定运行，同时提供了良好的视觉效果。 整体评价：稳定 \n",
      "第8条评论：用测试测了下，有2万2评分，还是不错的，就是不知道稳定性怎么样，希望能用的久一点 整体评价：  \n",
      "第9条评论：显卡做工，质量都不错。一次点亮。用了几天工作一直稳定。感觉挺直，服务态度好。显卡也不错。赞\n",
      "第10条评论：一次點亮，解像度可以設定到4K，玩F1 23 4K 高解像設定完全冇問題，7百多就有這樣高質的畫面感受，真值得，可以啊\n",
      "第11条评论：显卡安装好了，3D MARK测试了下，可能因为没买测试软件版权，只能简单测试吧，看了看显卡是2万2分，由于CPU不好，综合只有1万3。个人感觉还是不错的，希望这块显卡能经久耐用一点。 \n",
      "第12条评论：精影显卡很好，不比一线品牌差。收到货后立即上机，鲁大师跑分26万多，非常满意的一次网购！\n",
      "第13条评论：一点就亮，性价比高，做工整齐，好评\n",
      "第14条评论：追评之日，翻车之时，希望多用几年\n",
      "第15条评论：39天后追评玩战舰世界 .核心跑1900mhz，显存跑6001mhz.不知道有没有到头，比别人测的都稍微高百分之10的核心\n",
      "第16条评论：烤机20分钟，温度70多，主打刀塔2，使用了几天，除了风扇稍微有点响，其他都不错，好评。\n",
      "第17条评论：一次点亮，声音安静，又可以玩暗黑破坏神3了\n",
      "第18条评论：性价比：看了好几家，选择了精影，都知道是差不多的货，主要是精影售后做出承诺，收到货测试了几天总体还不错，非常满意。 \n",
      "第19条评论：用了几天才来 质感好 运行稳定 性价比高\n",
      "第20条评论：运行了几天没有啥问题，  性价比高，  也是 看到说售后比较好才买了 \n",
      "第21条评论：运行稳定，散热不成问题，价格便宜。用了段时间没问题。\n"
     ]
    },
    {
     "ename": "NoSuchElementException",
     "evalue": "Message: ; For documentation on this error, please visit: https://www.selenium.dev/documentation/webdriver/troubleshooting/errors#no-such-element-exception\n",
     "output_type": "error",
     "traceback": [
      "\u001b[0;31m---------------------------------------------------------------------------\u001b[0m",
      "\u001b[0;31mNoSuchElementException\u001b[0m                    Traceback (most recent call last)",
      "Cell \u001b[0;32mIn[332], line 6\u001b[0m\n\u001b[1;32m      4\u001b[0m driver\u001b[38;5;241m.\u001b[39mget(url)\n\u001b[1;32m      5\u001b[0m time\u001b[38;5;241m.\u001b[39msleep(\u001b[38;5;241m1\u001b[39m)\n\u001b[0;32m----> 6\u001b[0m icon\u001b[38;5;241m=\u001b[39mdriver\u001b[38;5;241m.\u001b[39mfind_element(By\u001b[38;5;241m.\u001b[39mXPATH,\u001b[38;5;124m'\u001b[39m\u001b[38;5;124m//*[@id=\u001b[39m\u001b[38;5;124m\"\u001b[39m\u001b[38;5;124mroot\u001b[39m\u001b[38;5;124m\"\u001b[39m\u001b[38;5;124m]/div/div[2]/div[2]/div[2]/div[1]/div/div/div[2]/span\u001b[39m\u001b[38;5;124m'\u001b[39m)\n\u001b[1;32m      7\u001b[0m icon\u001b[38;5;241m.\u001b[39mlocation_once_scrolled_into_view\n\u001b[1;32m      8\u001b[0m time\u001b[38;5;241m.\u001b[39msleep(\u001b[38;5;241m1\u001b[39m)\n",
      "File \u001b[0;32m~/anaconda3/lib/python3.11/site-packages/selenium/webdriver/remote/webdriver.py:741\u001b[0m, in \u001b[0;36mWebDriver.find_element\u001b[0;34m(self, by, value)\u001b[0m\n\u001b[1;32m    738\u001b[0m     by \u001b[38;5;241m=\u001b[39m By\u001b[38;5;241m.\u001b[39mCSS_SELECTOR\n\u001b[1;32m    739\u001b[0m     value \u001b[38;5;241m=\u001b[39m \u001b[38;5;124mf\u001b[39m\u001b[38;5;124m'\u001b[39m\u001b[38;5;124m[name=\u001b[39m\u001b[38;5;124m\"\u001b[39m\u001b[38;5;132;01m{\u001b[39;00mvalue\u001b[38;5;132;01m}\u001b[39;00m\u001b[38;5;124m\"\u001b[39m\u001b[38;5;124m]\u001b[39m\u001b[38;5;124m'\u001b[39m\n\u001b[0;32m--> 741\u001b[0m \u001b[38;5;28;01mreturn\u001b[39;00m \u001b[38;5;28mself\u001b[39m\u001b[38;5;241m.\u001b[39mexecute(Command\u001b[38;5;241m.\u001b[39mFIND_ELEMENT, {\u001b[38;5;124m\"\u001b[39m\u001b[38;5;124musing\u001b[39m\u001b[38;5;124m\"\u001b[39m: by, \u001b[38;5;124m\"\u001b[39m\u001b[38;5;124mvalue\u001b[39m\u001b[38;5;124m\"\u001b[39m: value})[\u001b[38;5;124m\"\u001b[39m\u001b[38;5;124mvalue\u001b[39m\u001b[38;5;124m\"\u001b[39m]\n",
      "File \u001b[0;32m~/anaconda3/lib/python3.11/site-packages/selenium/webdriver/remote/webdriver.py:347\u001b[0m, in \u001b[0;36mWebDriver.execute\u001b[0;34m(self, driver_command, params)\u001b[0m\n\u001b[1;32m    345\u001b[0m response \u001b[38;5;241m=\u001b[39m \u001b[38;5;28mself\u001b[39m\u001b[38;5;241m.\u001b[39mcommand_executor\u001b[38;5;241m.\u001b[39mexecute(driver_command, params)\n\u001b[1;32m    346\u001b[0m \u001b[38;5;28;01mif\u001b[39;00m response:\n\u001b[0;32m--> 347\u001b[0m     \u001b[38;5;28mself\u001b[39m\u001b[38;5;241m.\u001b[39merror_handler\u001b[38;5;241m.\u001b[39mcheck_response(response)\n\u001b[1;32m    348\u001b[0m     response[\u001b[38;5;124m\"\u001b[39m\u001b[38;5;124mvalue\u001b[39m\u001b[38;5;124m\"\u001b[39m] \u001b[38;5;241m=\u001b[39m \u001b[38;5;28mself\u001b[39m\u001b[38;5;241m.\u001b[39m_unwrap_value(response\u001b[38;5;241m.\u001b[39mget(\u001b[38;5;124m\"\u001b[39m\u001b[38;5;124mvalue\u001b[39m\u001b[38;5;124m\"\u001b[39m, \u001b[38;5;28;01mNone\u001b[39;00m))\n\u001b[1;32m    349\u001b[0m     \u001b[38;5;28;01mreturn\u001b[39;00m response\n",
      "File \u001b[0;32m~/anaconda3/lib/python3.11/site-packages/selenium/webdriver/remote/errorhandler.py:229\u001b[0m, in \u001b[0;36mErrorHandler.check_response\u001b[0;34m(self, response)\u001b[0m\n\u001b[1;32m    227\u001b[0m         alert_text \u001b[38;5;241m=\u001b[39m value[\u001b[38;5;124m\"\u001b[39m\u001b[38;5;124malert\u001b[39m\u001b[38;5;124m\"\u001b[39m]\u001b[38;5;241m.\u001b[39mget(\u001b[38;5;124m\"\u001b[39m\u001b[38;5;124mtext\u001b[39m\u001b[38;5;124m\"\u001b[39m)\n\u001b[1;32m    228\u001b[0m     \u001b[38;5;28;01mraise\u001b[39;00m exception_class(message, screen, stacktrace, alert_text)  \u001b[38;5;66;03m# type: ignore[call-arg]  # mypy is not smart enough here\u001b[39;00m\n\u001b[0;32m--> 229\u001b[0m \u001b[38;5;28;01mraise\u001b[39;00m exception_class(message, screen, stacktrace)\n",
      "\u001b[0;31mNoSuchElementException\u001b[0m: Message: ; For documentation on this error, please visit: https://www.selenium.dev/documentation/webdriver/troubleshooting/errors#no-such-element-exception\n"
     ]
    }
   ],
   "source": [
    "count = 0\n",
    "for id in shopId:\n",
    "    url=f'https://detail.tmall.com/item.htm?abbucket=8&id={id}&ns=1&spm=a21n57.1.0.0.3404523cP69f28'\n",
    "    driver.get(url)\n",
    "    time.sleep(5)\n",
    "    icon=driver.find_element(By.XPATH, '//*[@id=\"root\"]/div/div[2]/div[2]/div[2]/div[1]/div/div/div[2]/span')\n",
    "    icon.location_once_scrolled_into_view\n",
    "    time.sleep(5)\n",
    "    if icon:\n",
    "        # 单击icon五次\n",
    "        for i in range(5):\n",
    "            driver.execute_script(\"arguments[0].click();\", icon)\n",
    "        print(f\"{icon.text} id={id}\")\n",
    "    else:\n",
    "        print(\"No icons found\")\n",
    "    time.sleep(5)\n",
    "    # 等待直到找到 class 属性为 \"Comment--content--15w7fKj\" 的元素\n",
    "    comments = driver.find_elements(By.CLASS_NAME,'Comment--content--15w7fKj')\n",
    "    for comment in comments:\n",
    "        driver.execute_script(\"arguments[0].scrollIntoView();\", comment)\n",
    "    # 如果没找到元素，print(wrong)\n",
    "    if not comments:\n",
    "        print('无评论') \n",
    "    else:\n",
    "        # 打印评论\n",
    "        i = 1\n",
    "        for comment in comments:\n",
    "            print(f\"第{i}条评论：{comment.text}\")\n",
    "            i += 1\n",
    "            count += 1\n",
    "\n"
   ]
  },
  {
   "cell_type": "code",
   "execution_count": null,
   "metadata": {},
   "outputs": [
    {
     "name": "stdout",
     "output_type": "stream",
     "text": [
      "总共有365条评论\n"
     ]
    }
   ],
   "source": [
    "driver.quit()\n",
    "print(f\"总共有{count}条评论\")"
   ]
  }
 ],
 "metadata": {
  "kernelspec": {
   "display_name": "base",
   "language": "python",
   "name": "python3"
  },
  "language_info": {
   "codemirror_mode": {
    "name": "ipython",
    "version": 3
   },
   "file_extension": ".py",
   "mimetype": "text/x-python",
   "name": "python",
   "nbconvert_exporter": "python",
   "pygments_lexer": "ipython3",
   "version": "3.11.5"
  }
 },
 "nbformat": 4,
 "nbformat_minor": 2
}
