{
 "cells": [
  {
   "cell_type": "code",
   "execution_count": null,
   "metadata": {},
   "outputs": [],
   "source": [
    "# 先对抖音热榜top50数据进行信息爬取：热榜排名（不包括置顶），热榜标题，热榜链接，热榜时间，热度值。将数据存入excel中\n",
    "\n",
    "import requests\n",
    "from selenium import webdriver\n",
    "from selenium.webdriver.support.ui import WebDriverWait\n",
    "from selenium.webdriver.support import expected_conditions as EC\n",
    "from selenium.webdriver.common.by import By\n",
    "\n",
    "url = 'https://www.douyin.com/hot'"
   ]
  },
  {
   "cell_type": "code",
   "execution_count": null,
   "metadata": {},
   "outputs": [],
   "source": [
    "# 创建一个 WebDriver 对象\n",
    "driver = webdriver.Safari()"
   ]
  },
  {
   "cell_type": "code",
   "execution_count": null,
   "metadata": {},
   "outputs": [],
   "source": [
    "# 使用 get 方法打开网页\n",
    "driver.get(url)\n",
    "\n",
    "wait = WebDriverWait(driver, 20)\n",
    "element = wait.until(EC.element_to_be_clickable((By.XPATH, '//*[@id=\"login-pannel\"]/div[2]')))\n",
    "element.click()"
   ]
  },
  {
   "cell_type": "code",
   "execution_count": null,
   "metadata": {},
   "outputs": [],
   "source": [
    "\n",
    "# 对抖音热榜top50数据进行信息爬取：热榜排名（不包括置顶），热榜标题，热榜链接，热榜时间，热度值\n",
    "# 热榜排名（不包括置顶）\n",
    "rank=[]\n",
    "for i in range(1,51):\n",
    "    rank.append(i)\n",
    "\n",
    "# 热榜标题\n",
    "titles=[]\n",
    "#找到所有class=\"hY8lWHgA OZjA0HuU\"的元素\n",
    "elements1 = driver.find_elements(By.CLASS_NAME,'hY8lWHgA')\n",
    "elements2 = driver.find_elements(By.CLASS_NAME,'OZjA0HuU')\n",
    "#如果i在elements1中并且在elements2中，就把i加入到titles中\n",
    "for i in elements1:\n",
    "    if i in elements2:\n",
    "        titles.append(i.text)\n",
    "\n",
    "# 热榜链接\n",
    "links=[]\n",
    "#把elements3中的所有元素的href属性加入到links中\n",
    "for i in elements1:\n",
    "    if i in elements2:\n",
    "        links.append(i.get_attribute('href'))\n",
    "\n",
    "# 热榜时间\n",
    "times=[]\n",
    "for i in range(1,51):\n",
    "    times.append('0')\n",
    "\n",
    "\n",
    "# 热度值\n",
    "hots=[]\n",
    "#找到所有class=\"R_6SmOx4\"的元素\n",
    "elements3 = driver.find_elements(By.CLASS_NAME,'R_6SmOx4')\n",
    "#把elements3中的所有元素的text属性加入到times中\n",
    "for i in elements3:\n",
    "    hots.append(i.text)"
   ]
  },
  {
   "cell_type": "code",
   "execution_count": null,
   "metadata": {},
   "outputs": [],
   "source": [
    "# 然后分别爬取任选三个分区的第一个视频，并保存到文件“video_分区名称” 中\n",
    "import os\n",
    "import youtube_dl\n",
    "\n",
    "# 分区列表\n",
    "sections = ['channel/300205 ', 'channel/300201', 'channel/300206']\n",
    "\n",
    "for section in sections:\n",
    "    # 打开分区页面\n",
    "    driver.get(f'https://www.douyin.com/{section}')\n",
    "    wait = WebDriverWait(driver, 20)\n",
    "    element = wait.until(EC.element_to_be_clickable((By.XPATH, '//*[@id=\"login-pannel\"]/div[2]')))\n",
    "    element.click()\n",
    "    # 找到第一个视频的链接\n",
    "    ele = driver.find_elements(By.CLASS_NAME,'BdmN01E5')\n",
    "    video_link=ele.get_attribute('href')\n",
    "    # 设置下载选项\n",
    "    ydl_opts = {\n",
    "        'outtmpl': f'video_{section}/%(title)s.%(ext)s',\n",
    "    }\n",
    "    # 下载视频\n",
    "    with youtube_dl.YoutubeDL(ydl_opts) as ydl:\n",
    "        ydl.download([video_link])\n"
   ]
  },
  {
   "cell_type": "code",
   "execution_count": null,
   "metadata": {},
   "outputs": [],
   "source": [
    "\n",
    "# 关闭浏览器\n",
    "driver.quit()"
   ]
  },
  {
   "cell_type": "code",
   "execution_count": null,
   "metadata": {},
   "outputs": [],
   "source": [
    "#titles去掉第一项\n",
    "titles.pop(0)\n",
    "len (titles)"
   ]
  },
  {
   "cell_type": "code",
   "execution_count": null,
   "metadata": {},
   "outputs": [],
   "source": [
    "links.pop(0)"
   ]
  },
  {
   "cell_type": "code",
   "execution_count": null,
   "metadata": {},
   "outputs": [],
   "source": [
    "#将几个表格合并成一个表格\n",
    "import pandas as pd\n",
    "df=pd.DataFrame()\n",
    "df['rank']=rank\n",
    "df['title']=titles\n",
    "df['link']=links\n",
    "df['time']=times\n",
    "df['hot']=hots\n",
    "df"
   ]
  },
  {
   "cell_type": "code",
   "execution_count": null,
   "metadata": {},
   "outputs": [],
   "source": [
    "#将数据存入excel中\n",
    "df.to_excel('douyin.xlsx',index=False)"
   ]
  }
 ],
 "metadata": {
  "kernelspec": {
   "display_name": "base",
   "language": "python",
   "name": "python3"
  },
  "language_info": {
   "codemirror_mode": {
    "name": "ipython",
    "version": 3
   },
   "file_extension": ".py",
   "mimetype": "text/x-python",
   "name": "python",
   "nbconvert_exporter": "python",
   "pygments_lexer": "ipython3",
   "version": "3.12.1"
  }
 },
 "nbformat": 4,
 "nbformat_minor": 2
}
