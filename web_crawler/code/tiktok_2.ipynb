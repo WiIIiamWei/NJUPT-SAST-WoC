{
 "cells": [
  {
   "cell_type": "code",
   "execution_count": 3,
   "metadata": {},
   "outputs": [],
   "source": [
    "import requests\n",
    "import pandas as pd\n",
    "\n",
    "\n",
    "browse_header = {\n",
    "    \"Accept\": \"application/json, text/plain, */*\",\n",
    "    \"User-Agent\": \"Mozilla/5.0 (Windows NT 10.0; Win64; x64) AppleWebKit/537.36 (KHTML, like Gecko) Chrome/100.0.4896.60 Safari/537.36\",\n",
    "    \"Host\": \"www.douyin.com\",\n",
    "    \"Referer\": \"https://www.douyin.com/discover\",\n",
    "    \"Cookie\": \"_xsrf=Pd0NpG6J8kZdHtzBVnNyQP1g0rO7NKeg; _zap=d7f27b9f-4fe3-4ef4-9376-df278af16940;\"\n",
    "}\n",
    "\n",
    "url = \"https://www.douyin.com/aweme/v1/web/hot/search/list/?device_platform=webapp&aid=6383&channel=channel_pc_web\"\n",
    "\n",
    "res = requests.get(url, headers=browse_header).json()\n",
    "# 实时上升热点\n",
    "content_list = res['data']['word_list']\n",
    "title_list = []\n",
    "order_list = []\n",
    "score_list = []\n",
    "time_list = []\n",
    "desc_list = []\n",
    "url_list = []\n",
    "index = 0\n",
    "for content in content_list:\n",
    "    index += 1\n",
    "    order_list.append(content['position'])\n",
    "    title_list.append(content['word'])\n",
    "    score_list.append(content['hot_value'])\n",
    "    time_list.append(content['event_time'])\n",
    "    desc_list.append(content['word'])\n",
    "    url_list.append(f\"https://www.douyin.com/hot/{content['sentence_id']}\")\n",
    "\n",
    "df = pd.DataFrame({\n",
    "    '热搜标题': title_list,\n",
    "    '热搜排名': order_list,\n",
    "    '热搜热度': score_list,\n",
    "    '热榜时间': time_list,\n",
    "    '链接地址': url_list\n",
    "})\n",
    "df.to_excel('抖音热搜榜.xlsx', index=False)  # 保存结果数据\n"
   ]
  }
 ],
 "metadata": {
  "kernelspec": {
   "display_name": "base",
   "language": "python",
   "name": "python3"
  },
  "language_info": {
   "codemirror_mode": {
    "name": "ipython",
    "version": 3
   },
   "file_extension": ".py",
   "mimetype": "text/x-python",
   "name": "python",
   "nbconvert_exporter": "python",
   "pygments_lexer": "ipython3",
   "version": "3.11.5"
  }
 },
 "nbformat": 4,
 "nbformat_minor": 2
}
