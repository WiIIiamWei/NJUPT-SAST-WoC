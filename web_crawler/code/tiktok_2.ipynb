{
 "cells": [
  {
   "cell_type": "code",
   "execution_count": null,
   "metadata": {},
   "outputs": [],
   "source": [
    "import requests\n",
    "import pandas as pd\n",
    "\n",
    "browse_header = {\n",
    "    \"Accept\": \"application/json, text/plain, */*\",\n",
    "    \"User-Agent\": \"Mozilla/5.0 (Windows NT 10.0; Win64; x64) AppleWebKit/537.36 (KHTML, like Gecko) Chrome/100.0.4896.60 Safari/537.36\",\n",
    "    \"Host\": \"www.douyin.com\",\n",
    "    \"Referer\": \"https://www.douyin.com/discover\",\n",
    "    \"Cookie\": \"_xsrf=Pd0NpG6J8kZdHtzBVnNyQP1g0rO7NKeg; _zap=d7f27b9f-4fe3-4ef4-9376-df278af16940;\"\n",
    "}\n",
    "\n",
    "url = \"https://www.douyin.com/aweme/v1/web/hot/search/list/?device_platform=webapp&aid=6383&channel=channel_pc_web\"\n",
    "\n",
    "res = requests.get(url, headers=browse_header).json()\n",
    "# 实时上升热点\n",
    "content_list = res['data']['word_list']\n",
    "title_list = []\n",
    "order_list = []\n",
    "score_list = []\n",
    "time_list = []\n",
    "desc_list = []\n",
    "url_list = []\n",
    "index = 0\n",
    "for content in content_list:\n",
    "    index += 1\n",
    "    order_list.append(content['position'])\n",
    "    title_list.append(content['word'])\n",
    "    score_list.append(content['hot_value'])\n",
    "    time_list.append(content['event_time'])\n",
    "    desc_list.append(content['word'])\n",
    "    url_list.append(f\"https://www.douyin.com/hot/{content['sentence_id']}\")\n",
    "\n",
    "df = pd.DataFrame({\n",
    "    '热搜标题': title_list,\n",
    "    '热搜排名': order_list,\n",
    "    '热搜热度': score_list,\n",
    "    '热榜时间': time_list,\n",
    "    '链接地址': url_list\n",
    "})\n",
    "df.to_excel('../data/抖音热搜榜.xlsx', index=False)"
   ]
  },
  {
   "cell_type": "code",
   "execution_count": 11,
   "metadata": {},
   "outputs": [],
   "source": [
    "url = \"https://www.douyin.com/video/7314080191658167563\""
   ]
  },
  {
   "cell_type": "code",
   "execution_count": null,
   "metadata": {},
   "outputs": [],
   "source": [
    "# 下载视频 BUT YT_DLP IS NOT WORKING IDFK WHY\n",
    "import yt_dlp\n",
    "\n",
    "ydl_opts = {\n",
    "    'format': 'bestvideo+bestaudio/best',\n",
    "    'outtmpl': 'output/%(title)s.%(ext)s',\n",
    "    'cookiefile': 'web_crawler/data/cookies.txt'\n",
    "}\n",
    "with yt_dlp.YoutubeDL(ydl_opts) as ydl:\n",
    "    ydl.download([url])"
   ]
  },
  {
   "cell_type": "code",
   "execution_count": 9,
   "metadata": {},
   "outputs": [
    {
     "name": "stdout",
     "output_type": "stream",
     "text": [
      "\n"
     ]
    }
   ],
   "source": [
    "# 下载视频\n",
    "# NOT WORKING, FIX ASAP\n",
    "\n",
    "import requests\n",
    "from selenium import webdriver\n",
    "from selenium.webdriver.common.by import By\n",
    "from selenium.webdriver.support.ui import WebDriverWait\n",
    "from selenium.common.exceptions import NoSuchElementException\n",
    "from selenium.webdriver.support import expected_conditions as EC\n",
    "\n",
    "driver = webdriver.Firefox()\n",
    "driver.get(url)\n",
    "\n",
    "WebDriverWait(driver, 10).until(EC.presence_of_element_located((By.XPATH, '/html/body/div[2]/div/div[3]/div[2]/div/div[1]/div[2]/div/xg-video-container/video')))\n",
    "\n",
    "try:\n",
    "    video = driver.find_element(By.XPATH, '/html/body/div[2]/div/div[3]/div[2]/div/div[1]/div[2]/div/xg-video-container/video')\n",
    "    video_url = video.get_attribute('src')\n",
    "except NoSuchElementException:\n",
    "    print(\"Video element not found.\")\n",
    "    driver.quit()\n",
    "    exit(1)\n",
    "\n",
    "print(video_url)\n",
    "driver.quit()"
   ]
  },
  {
   "cell_type": "code",
   "execution_count": null,
   "metadata": {},
   "outputs": [],
   "source": [
    "response = requests.get(video_url, stream=True)\n",
    "with open(\"../data/video.mp4\", \"wb\") as file:\n",
    "    for chunk in response.iter_content(chunk_size=1024):\n",
    "        if chunk:\n",
    "            file.write(chunk)"
   ]
  }
 ],
 "metadata": {
  "kernelspec": {
   "display_name": "spider",
   "language": "python",
   "name": "python3"
  },
  "language_info": {
   "codemirror_mode": {
    "name": "ipython",
    "version": 3
   },
   "file_extension": ".py",
   "mimetype": "text/x-python",
   "name": "python",
   "nbconvert_exporter": "python",
   "pygments_lexer": "ipython3",
   "version": "3.12.1"
  }
 },
 "nbformat": 4,
 "nbformat_minor": 2
}
