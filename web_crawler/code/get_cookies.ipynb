{
 "cells": [
  {
   "cell_type": "code",
   "execution_count": 46,
   "metadata": {},
   "outputs": [],
   "source": [
    "from selenium import webdriver\n",
    "from selenium.webdriver.common.by import By\n",
    "import time"
   ]
  },
  {
   "cell_type": "code",
   "execution_count": 47,
   "metadata": {},
   "outputs": [
    {
     "name": "stdout",
     "output_type": "stream",
     "text": [
      "1\n",
      "[{'expiry': 1722882711, 'secure': True, 'domain': '.taobao.com', 'httpOnly': False, 'value': 'BL6-xfN2V6qIpIOOVFm2Ce08DdIA_4J5o8GKe2jHKoH8C17l0I_SieTph1bHKHqR', 'path': '/', 'sameSite': 'None', 'name': 'isg'}, {'expiry': 1722882711, 'secure': False, 'domain': '.taobao.com', 'httpOnly': False, 'value': 'ez8eXyVNqavsPfVXYGbPbEz9ZzXdyZHjaU65ZQAlO9XHAQflzdvS99OopL8PIdPIpTipUgJWBgv5FBNpXKO0ReidPz7CyaDjhqgb9BQRrGPVEGOKIvkNSxgjlBAdyaDjhXHiM8sOEzYky6mmEAQ-gfTNTMj9t14l6F5FYtA3Vz4uM6SFnBXG4EaRsrAqsxwuqM45_tGZsMqqnMyYcXvL2uIMX1WjOXZ82MXf_tGZ_uERjBfNhXGC.', 'path': '/', 'sameSite': 'None', 'name': 'tfstk'}, {'secure': False, 'domain': '.taobao.com', 'httpOnly': False, 'value': 'existShop=false&cookie16=UIHiLt3xCS3yM2h4eKHS9lpEOw%3D%3D&cookie14=UoYekiNfEtm%2FcA%3D%3D&cookie15=WqG3DMC9VAQiUQ%3D%3D&pas=0&cookie21=WqG3DMC9FxUx', 'path': '/', 'sameSite': 'None', 'name': 'uc1'}, {'expiry': 1738866681, 'secure': False, 'domain': '.taobao.com', 'httpOnly': False, 'value': 'U%2BGCWk%2F7og%3D%3D', 'path': '/', 'sameSite': 'None', 'name': '_cc_'}, {'secure': False, 'domain': '.taobao.com', 'httpOnly': False, 'value': 'Ug%3D%3D', 'path': '/', 'sameSite': 'None', 'name': '_l_g_'}, {'secure': False, 'domain': '.taobao.com', 'httpOnly': False, 'value': 'tb2966396348', 'path': '/', 'sameSite': 'None', 'name': '_nk_'}, {'secure': False, 'domain': '.taobao.com', 'httpOnly': False, 'value': 'ee554e7edefe6', 'path': '/', 'sameSite': 'None', 'name': '_tb_token_'}, {'secure': False, 'domain': '.taobao.com', 'httpOnly': False, 'value': 'empty', 'path': '/', 'sameSite': 'None', 'name': 'cancelledSubSites'}, {'secure': False, 'domain': '.taobao.com', 'httpOnly': True, 'value': 'WvcQGhHMC%2BKDdaeIDAWSZO5WIkqE05z7oJ3wrv5bs4c%3D', 'path': '/', 'sameSite': 'None', 'name': 'cookie1'}, {'secure': False, 'domain': '.taobao.com', 'httpOnly': True, 'value': 'UUpgRK%2Fa%2BnCptQbSgQ%3D%3D', 'path': '/', 'sameSite': 'None', 'name': 'cookie17'}, {'secure': False, 'domain': '.taobao.com', 'httpOnly': True, 'value': '103fa6ff6f2f121ba2a6f9be38cd1489', 'path': '/', 'sameSite': 'None', 'name': 'cookie2'}, {'secure': False, 'domain': '.taobao.com', 'httpOnly': False, 'value': '2be72af1', 'path': '/', 'sameSite': 'None', 'name': 'csg'}, {'secure': False, 'domain': '.taobao.com', 'httpOnly': False, 'value': 'tb2966396348', 'path': '/', 'sameSite': 'None', 'name': 'dnk'}, {'secure': False, 'domain': '.taobao.com', 'httpOnly': False, 'value': 'MTcwNzMzMDY4MQ%3D%3D', 'path': '/', 'sameSite': 'None', 'name': 'existShop'}, {'expiry': 1709922681, 'secure': False, 'domain': '.taobao.com', 'httpOnly': False, 'value': 'tb2966396348', 'path': '/', 'sameSite': 'None', 'name': 'lgc'}, {'secure': False, 'domain': '.taobao.com', 'httpOnly': False, 'value': '872', 'path': '/', 'sameSite': 'None', 'name': 'sg'}, {'expiry': 1738866681, 'secure': False, 'domain': '.taobao.com', 'httpOnly': True, 'value': 'E100S266ijdsJTpO10%2FZPPYVLqrtDCInb%2BOeATUXAR%2FV8QUg9fmOcAn4X3FCMax4Fs5i4Ak4cEytc3FUwFqCxoUeZ2GD1iC3ZzpGKnV5IhHVYxG4uAVuu%2FvalKmj4%2FwkMABw', 'path': '/', 'sameSite': 'None', 'name': 'sgcookie'}, {'secure': False, 'domain': '.taobao.com', 'httpOnly': True, 'value': 'b955382dd845df73', 'path': '/', 'sameSite': 'None', 'name': 'skt'}, {'expiry': 1715106681, 'secure': False, 'domain': '.taobao.com', 'httpOnly': False, 'value': 'f697b3bca1bf540c0a9378e8d142d29a', 'path': '/', 'sameSite': 'None', 'name': 't'}, {'expiry': 1738866681, 'secure': False, 'domain': '.taobao.com', 'httpOnly': False, 'value': 'tb2966396348', 'path': '/', 'sameSite': 'None', 'name': 'tracknick'}, {'expiry': 1709922681, 'secure': False, 'domain': '.taobao.com', 'httpOnly': True, 'value': 'lg2=U%2BGCWk%2F75gdr5Q%3D%3D&id2=UUpgRK%2Fa%2BnCptQbSgQ%3D%3D&vt3=F8dD3CmQy%2FaRHQRLCQ0%3D&nk2=F5RHqFvjokxQuuT8', 'path': '/', 'sameSite': 'None', 'name': 'uc3'}, {'expiry': 1709922681, 'secure': False, 'domain': '.taobao.com', 'httpOnly': True, 'value': 'nk4=0%40FY4MuqA2se8OHGMuObO9JfbcQGuvlDA%3D&id4=0%40U2gqy16UcpWRewvUN04MhYUe9hKHbsPY', 'path': '/', 'sameSite': 'None', 'name': 'uc4'}, {'secure': False, 'domain': '.taobao.com', 'httpOnly': True, 'value': '2212297293927', 'path': '/', 'sameSite': 'None', 'name': 'unb'}, {'expiry': 1707589870, 'secure': True, 'domain': '.taobao.com', 'httpOnly': False, 'value': '1', 'path': '/', 'sameSite': 'None', 'name': 'xlly_s'}, {'expiry': 1741890669, 'secure': False, 'domain': '.taobao.com', 'httpOnly': False, 'value': 'brpKHvBKgCkCAd9Yel1Q7OMH', 'path': '/', 'sameSite': 'None', 'name': 'cna'}, {'expiry': 1708194668, 'secure': True, 'domain': '.taobao.com', 'httpOnly': False, 'value': '1707330668707', 'path': '/', 'sameSite': 'None', 'name': '3PcFlag'}, {'secure': True, 'domain': '.taobao.com', 'httpOnly': True, 'value': 'true', 'path': '/', 'sameSite': 'None', 'name': '_samesite_flag_'}]\n"
     ]
    }
   ],
   "source": [
    "\n",
    "headers = {\n",
    "    \"User-Agent\":'Mozilla/5.0 (Windows NT 10.0; Win64; x64) AppleWebKit/537.36 (KHTML, like Gecko) Chrome/101.0.4951.41 Safari/537.36'\n",
    "}\n",
    "\n",
    "# browser = webdriver.Safari()\n",
    "browser = webdriver.Firefox()\n",
    "url = 'https://i.taobao.com/my_taobao.htm?nekot=dGIyOTY2Mzk2MzQ41707330008671'\n",
    "browser.get(url)\n",
    "# 全屏\n",
    "browser.maximize_window()\n",
    "time.sleep(5)\n",
    "print(1)\n",
    "# 点击xpath为//*[@id=\"login\"]/div[1]/i的元素\n",
    "browser.find_element(By.XPATH,'//*[@id=\"login\"]/div[1]/i').click()\n",
    "time.sleep(20)  # 留20秒或者更长的时间来手动进行登录；推荐扫码登陆\n",
    "cookies = browser.get_cookies()  # 获取Cookie\n",
    "\n",
    "time.sleep(15) # 这里设置的是等待多少秒,也就是浏览器等待你登录,在这之后就去检查cookie,这个时间短了登录美好,长了你等的时间太长\n",
    "try:\n",
    "    browser.refresh() # 先刷新界面\n",
    "    print(browser.get_cookies()) # 获得cookie并打印\n",
    "except Exception as e:\n",
    "    print(e)\n",
    "    print(f'耗时：1')"
   ]
  },
  {
   "cell_type": "code",
   "execution_count": null,
   "metadata": {},
   "outputs": [],
   "source": [
    "browser.quit()"
   ]
  }
 ],
 "metadata": {
  "kernelspec": {
   "display_name": "base",
   "language": "python",
   "name": "python3"
  },
  "language_info": {
   "codemirror_mode": {
    "name": "ipython",
    "version": 3
   },
   "file_extension": ".py",
   "mimetype": "text/x-python",
   "name": "python",
   "nbconvert_exporter": "python",
   "pygments_lexer": "ipython3",
   "version": "3.11.5"
  }
 },
 "nbformat": 4,
 "nbformat_minor": 2
}
