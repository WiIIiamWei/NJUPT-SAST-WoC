{
 "cells": [
  {
   "cell_type": "code",
   "execution_count": 24,
   "metadata": {},
   "outputs": [
    {
     "data": {
      "text/plain": [
       "['694168504873',\n",
       " '675283436889',\n",
       " '650148249256',\n",
       " '749865515162',\n",
       " '2215115301696',\n",
       " '630992186097',\n",
       " '638527720402',\n",
       " '649491448702',\n",
       " '760291935606',\n",
       " '544938957244',\n",
       " '695459116852',\n",
       " '693783042579',\n",
       " '695753938655',\n",
       " '694079467320',\n",
       " '695510981405',\n",
       " '743240780338',\n",
       " '696362085490',\n",
       " '695188799271',\n",
       " '693551765598',\n",
       " '695765594483',\n",
       " '693297045714',\n",
       " '683121641192']"
      ]
     },
     "execution_count": 24,
     "metadata": {},
     "output_type": "execute_result"
    }
   ],
   "source": [
    "# 读取文件2.0\n",
    "def read_file(file_name):\n",
    "    with open(file_name, 'r') as f:\n",
    "        return f.read()\n",
    "txt = read_file('../data/2.0')\n",
    "txt = txt.split(\"id=\")\n",
    "# 获取txt每行前15个字符中的数字\n",
    "shopId = []\n",
    "for line in txt:\n",
    "        # 获取前15个字符\n",
    "        first_15_chars = line[:15]\n",
    "        # 获取这些字符中的数字\n",
    "        numbers = ''.join(char for char in first_15_chars if char.isdigit())\n",
    "        shopId.append(numbers)\n",
    "shopId.pop(0)"
   ]
  }
 ],
 "metadata": {
  "kernelspec": {
   "display_name": "base",
   "language": "python",
   "name": "python3"
  },
  "language_info": {
   "codemirror_mode": {
    "name": "ipython",
    "version": 3
   },
   "file_extension": ".py",
   "mimetype": "text/x-python",
   "name": "python",
   "nbconvert_exporter": "python",
   "pygments_lexer": "ipython3",
   "version": "3.11.5"
  }
 },
 "nbformat": 4,
 "nbformat_minor": 2
}
