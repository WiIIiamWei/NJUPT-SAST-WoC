{
 "cells": [
  {
   "cell_type": "code",
   "execution_count": null,
   "metadata": {},
   "outputs": [],
   "source": [
    "import cv2\n",
    "import os\n",
    "import numpy as np\n",
    "import matplotlib.pyplot as plt\n",
    "from PIL import Image\n",
    "img_digit = 1\n",
    "img_label = []\n",
    "for img_digit in range(1, 15626):\n",
    "    if os.path.exists(f\"/Users/a123/vscode/njupt-woc/catdogdata/train/cat.{img_digit}.jpg\"):\n",
    "        try:\n",
    "            img = Image.open(f\"/Users/a123/vscode/njupt-woc/catdogdata/train/cat.{img_digit}.jpg\")\n",
    "            img_label.append('cat')\n",
    "        except FileNotFoundError:\n",
    "            try:\n",
    "                img = Image.open(f\"/Users/a123/vscode/njupt-woc/catdogdata/train/dog.{img_digit}.jpg\")\n",
    "                img_label.append('dog')\n",
    "            except FileNotFoundError:\n",
    "                print(f\"Image {img_digit} not found!\")\n",
    "        imggray = img.convert('LA')\n",
    "        imgmat = np.array(list(imggray.getdata(band=0)), float)\n",
    "        imgmat.shape = (imggray.size[1], imggray.size[0])\n",
    "        imgmat = np.matrix(imgmat)\n",
    "        _ = plt.imshow(imgmat, cmap='gray')\n",
    "        U, sigma, V = np.linalg.svd(imgmat)\n",
    "        reconstimg = np.matrix(U[:, :1]) * np.diag(sigma[:1]) * np.matrix(V[:1, :])\n",
    "        for i in [2, 4, 8, 16, 32, 64]:\n",
    "            reconstimg = np.matrix(U[:, :i]) * np.diag(sigma[:i]) * np.matrix(V[:i, :])\n",
    "            plt.imshow(reconstimg, cmap='gray')\n",
    "            title = \"n = %s\" % i\n",
    "            plt.title(title)\n",
    "            plt.show()"
   ]
  },
  {
   "cell_type": "code",
   "execution_count": null,
   "metadata": {},
   "outputs": [],
   "source": []
  }
 ],
 "metadata": {
  "kernelspec": {
   "display_name": "base",
   "language": "python",
   "name": "python3"
  },
  "language_info": {
   "codemirror_mode": {
    "name": "ipython",
    "version": 3
   },
   "file_extension": ".py",
   "mimetype": "text/x-python",
   "name": "python",
   "nbconvert_exporter": "python",
   "pygments_lexer": "ipython3",
   "version": "3.11.5"
  }
 },
 "nbformat": 4,
 "nbformat_minor": 2
}
